{
 "cells": [
  {
   "cell_type": "markdown",
   "metadata": {
    "id": "dGATMXZE4oAD"
   },
   "source": [
    "# Sentiment Analysis: Training a binary classifier with the IMDB Reviews Dataset\n",
    "\n",
    "In this notebook, we will be building a sentiment classification model to distinguish between positive and negative movie reviews. We will train it on the [IMDB Reviews](http://ai.stanford.edu/~amaas/data/sentiment/) dataset.\n",
    "Let's get started!\n"
   ]
  },
  {
   "cell_type": "markdown",
   "metadata": {
    "id": "sWt8QlOGpy1j"
   },
   "source": [
    "## Download the Dataset\n",
    "\n",
    "First, we will need to fetch the dataset we will be working on. This is hosted via [Tensorflow Datasets](https://www.tensorflow.org/datasets), a collection of prepared datasets for machine learning."
   ]
  },
  {
   "cell_type": "code",
   "execution_count": 1,
   "metadata": {
    "id": "_IoM4VFxWpMR"
   },
   "outputs": [],
   "source": [
    "import tensorflow_datasets as tfds\n",
    "\n",
    "# Load the IMDB Reviews dataset\n",
    "imdb, info = tfds.load(\"imdb_reviews\", with_info=True, as_supervised=True)"
   ]
  },
  {
   "cell_type": "code",
   "execution_count": 2,
   "metadata": {
    "colab": {
     "base_uri": "https://localhost:8080/"
    },
    "id": "J3PEarpKw9_j",
    "outputId": "57620d7d-7e57-470d-c688-b51f4ccf9e99"
   },
   "outputs": [
    {
     "name": "stdout",
     "output_type": "stream",
     "text": [
      "tfds.core.DatasetInfo(\n",
      "    name='imdb_reviews',\n",
      "    full_name='imdb_reviews/plain_text/1.0.0',\n",
      "    description=\"\"\"\n",
      "    Large Movie Review Dataset. This is a dataset for binary sentiment\n",
      "    classification containing substantially more data than previous benchmark\n",
      "    datasets. We provide a set of 25,000 highly polar movie reviews for training,\n",
      "    and 25,000 for testing. There is additional unlabeled data for use as well.\n",
      "    \"\"\",\n",
      "    config_description=\"\"\"\n",
      "    Plain text\n",
      "    \"\"\",\n",
      "    homepage='http://ai.stanford.edu/~amaas/data/sentiment/',\n",
      "    data_dir='/root/tensorflow_datasets/imdb_reviews/plain_text/1.0.0',\n",
      "    file_format=tfrecord,\n",
      "    download_size=80.23 MiB,\n",
      "    dataset_size=129.83 MiB,\n",
      "    features=FeaturesDict({\n",
      "        'label': ClassLabel(shape=(), dtype=int64, num_classes=2),\n",
      "        'text': Text(shape=(), dtype=string),\n",
      "    }),\n",
      "    supervised_keys=('text', 'label'),\n",
      "    disable_shuffling=False,\n",
      "    splits={\n",
      "        'test': <SplitInfo num_examples=25000, num_shards=1>,\n",
      "        'train': <SplitInfo num_examples=25000, num_shards=1>,\n",
      "        'unsupervised': <SplitInfo num_examples=50000, num_shards=1>,\n",
      "    },\n",
      "    citation=\"\"\"@InProceedings{maas-EtAl:2011:ACL-HLT2011,\n",
      "      author    = {Maas, Andrew L.  and  Daly, Raymond E.  and  Pham, Peter T.  and  Huang, Dan  and  Ng, Andrew Y.  and  Potts, Christopher},\n",
      "      title     = {Learning Word Vectors for Sentiment Analysis},\n",
      "      booktitle = {Proceedings of the 49th Annual Meeting of the Association for Computational Linguistics: Human Language Technologies},\n",
      "      month     = {June},\n",
      "      year      = {2011},\n",
      "      address   = {Portland, Oregon, USA},\n",
      "      publisher = {Association for Computational Linguistics},\n",
      "      pages     = {142--150},\n",
      "      url       = {http://www.aclweb.org/anthology/P11-1015}\n",
      "    }\"\"\",\n",
      ")\n"
     ]
    }
   ],
   "source": [
    "# Print information about the dataset\n",
    "print(info)"
   ]
  },
  {
   "cell_type": "markdown",
   "metadata": {
    "id": "kLRAoHil5poj"
   },
   "source": [
    "From the output, there is a total of 100,000 examples in the dataset and it is split into `train`, `test` and `unsupervised` sets. We will only use `train` and `test` sets because labeled examples are needed to train the model."
   ]
  },
  {
   "cell_type": "markdown",
   "metadata": {
    "id": "5EzNDkdkpvrv"
   },
   "source": [
    "## Split the dataset\n"
   ]
  },
  {
   "cell_type": "code",
   "execution_count": 3,
   "metadata": {
    "colab": {
     "base_uri": "https://localhost:8080/"
    },
    "id": "2NgUwTDu7Q1O",
    "outputId": "375597d1-aa34-48b0-c28a-204247fac0d0"
   },
   "outputs": [
    {
     "name": "stdout",
     "output_type": "stream",
     "text": [
      "(<tf.Tensor: shape=(), dtype=string, numpy=b\"This was an absolutely terrible movie. Don't be lured in by Christopher Walken or Michael Ironside. Both are great actors, but this must simply be their worst role in history. Even their great acting could not redeem this movie's ridiculous storyline. This movie is an early nineties US propaganda piece. The most pathetic scenes were those when the Columbian rebels were making their cases for revolutions. Maria Conchita Alonso appeared phony, and her pseudo-love affair with Walken was nothing but a pathetic emotional plug in a movie that was devoid of any real meaning. I am disappointed that there are movies like this, ruining actor's like Christopher Walken's good name. I could barely sit through it.\">, <tf.Tensor: shape=(), dtype=int64, numpy=0>)\n",
      "(<tf.Tensor: shape=(), dtype=string, numpy=b'I have been known to fall asleep during films, but this is usually due to a combination of things including, really tired, being warm and comfortable on the sette and having just eaten a lot. However on this occasion I fell asleep because the film was rubbish. The plot development was constant. Constantly slow and boring. Things seemed to happen, but with no explanation of what was causing them or why. I admit, I may have missed part of the film, but i watched the majority of it and everything just seemed to happen of its own accord without any real concern for anything else. I cant recommend this film at all.'>, <tf.Tensor: shape=(), dtype=int64, numpy=0>)\n"
     ]
    }
   ],
   "source": [
    "# Take 2 training examples and print its contents\n",
    "for example in imdb['train'].take(2):\n",
    "  print(example)"
   ]
  },
  {
   "cell_type": "markdown",
   "metadata": {
    "id": "hOtXX2gxB8pe"
   },
   "source": [
    "\n",
    "\n",
    " We will take all the `train` and `test` sentences and labels into separate lists so we can preprocess the text and feed it to the model later."
   ]
  },
  {
   "cell_type": "code",
   "execution_count": 4,
   "metadata": {
    "id": "wHQ2Ko0zl7M4"
   },
   "outputs": [],
   "source": [
    "import numpy as np\n",
    "\n",
    "# Get the train and test sets\n",
    "train_data, test_data = imdb['train'], imdb['test']\n",
    "\n",
    "# Initialize sentences and labels lists\n",
    "training_sentences = []\n",
    "training_labels = []\n",
    "\n",
    "testing_sentences = []\n",
    "testing_labels = []\n",
    "\n",
    "# Loop over all training examples and save the sentences and labels\n",
    "for s,l in train_data:\n",
    "  training_sentences.append(s.numpy().decode('utf8'))\n",
    "  training_labels.append(l.numpy())\n",
    "\n",
    "# Loop over all test examples and save the sentences and labels\n",
    "for s,l in test_data:\n",
    "  testing_sentences.append(s.numpy().decode('utf8'))\n",
    "  testing_labels.append(l.numpy())\n",
    "\n",
    "# Convert labels lists to numpy array\n",
    "training_labels_final = np.array(training_labels)\n",
    "testing_labels_final = np.array(testing_labels)\n"
   ]
  },
  {
   "cell_type": "markdown",
   "metadata": {
    "id": "ePTIgXj3q8Sg"
   },
   "source": [
    "## Generate Padded Sequences\n",
    "\n",
    "The text preprocessing steps will involve tokenizing the sentences and padding them to a uniform length. We've separated the parameters into its own code cell below so it will be easy for to tweak later if we want."
   ]
  },
  {
   "cell_type": "code",
   "execution_count": 5,
   "metadata": {
    "id": "lggoZqYUGYgX"
   },
   "outputs": [],
   "source": [
    "# Parameters\n",
    "\n",
    "vocab_size = 10000\n",
    "max_length = 120\n",
    "embedding_dim = 16\n",
    "trunc_type='post'\n",
    "oov_tok = \"<OOV>\""
   ]
  },
  {
   "cell_type": "code",
   "execution_count": 6,
   "metadata": {
    "id": "7n15yyMdmoH1"
   },
   "outputs": [],
   "source": [
    "from tensorflow.keras.preprocessing.text import Tokenizer\n",
    "from tensorflow.keras.preprocessing.sequence import pad_sequences\n",
    "\n",
    "# Initialize the Tokenizer class\n",
    "tokenizer = Tokenizer(num_words = vocab_size, oov_token=oov_tok)\n",
    "\n",
    "# Generate the word index dictionary for the training sentences\n",
    "tokenizer.fit_on_texts(training_sentences)\n",
    "word_index = tokenizer.word_index\n",
    "\n",
    "# Generate and pad the training sequences\n",
    "sequences = tokenizer.texts_to_sequences(training_sentences)\n",
    "padded = pad_sequences(sequences,maxlen=max_length, truncating=trunc_type)\n",
    "\n",
    "# Generate and pad the test sequences\n",
    "testing_sequences = tokenizer.texts_to_sequences(testing_sentences)\n",
    "testing_padded = pad_sequences(testing_sequences,maxlen=max_length, truncating=trunc_type)\n"
   ]
  },
  {
   "cell_type": "markdown",
   "metadata": {
    "id": "N2rCmp7ArGL_"
   },
   "source": [
    "## Build and Compile the Model\n",
    "\n",
    "With the data already preprocessed,  we proceed to building our sentiment classification model."
   ]
  },
  {
   "cell_type": "code",
   "execution_count": 7,
   "metadata": {
    "colab": {
     "base_uri": "https://localhost:8080/"
    },
    "id": "5NEpdhb8AxID",
    "outputId": "cb65f14a-11f1-4955-e72f-7eaa377e7d9f"
   },
   "outputs": [
    {
     "name": "stdout",
     "output_type": "stream",
     "text": [
      "Model: \"sequential\"\n",
      "_________________________________________________________________\n",
      " Layer (type)                Output Shape              Param #   \n",
      "=================================================================\n",
      " embedding (Embedding)       (None, 120, 16)           160000    \n",
      "                                                                 \n",
      " global_average_pooling1d (  (None, 16)                0         \n",
      " GlobalAveragePooling1D)                                         \n",
      "                                                                 \n",
      " dense (Dense)               (None, 6)                 102       \n",
      "                                                                 \n",
      " dense_1 (Dense)             (None, 1)                 7         \n",
      "                                                                 \n",
      "=================================================================\n",
      "Total params: 160109 (625.43 KB)\n",
      "Trainable params: 160109 (625.43 KB)\n",
      "Non-trainable params: 0 (0.00 Byte)\n",
      "_________________________________________________________________\n"
     ]
    }
   ],
   "source": [
    "import tensorflow as tf\n",
    "\n",
    "# Build the model\n",
    "model = tf.keras.Sequential([\n",
    "    tf.keras.layers.Embedding(vocab_size, embedding_dim, input_length=max_length),\n",
    "    tf.keras.layers.GlobalAveragePooling1D(),\n",
    "    tf.keras.layers.Dense(6, activation='relu'),\n",
    "    tf.keras.layers.Dense(1, activation='sigmoid')\n",
    "])\n",
    "\n",
    "# Setup the training parameters\n",
    "model.compile(loss='binary_crossentropy',optimizer='adam',metrics=['accuracy'])\n",
    "\n",
    "# Print the model summary\n",
    "model.summary()"
   ]
  },
  {
   "cell_type": "markdown",
   "metadata": {
    "id": "e8gbnoRdqp8O"
   },
   "source": [
    "## Train the Model\n",
    "\n",
    "Next, of course, is to train our model."
   ]
  },
  {
   "cell_type": "code",
   "execution_count": 8,
   "metadata": {
    "colab": {
     "base_uri": "https://localhost:8080/"
    },
    "id": "V5LLrXC-uNX6",
    "outputId": "8171a7c6-7a1e-4e97-c076-81889210cfcd"
   },
   "outputs": [
    {
     "name": "stdout",
     "output_type": "stream",
     "text": [
      "Epoch 1/8\n",
      "782/782 [==============================] - 7s 8ms/step - loss: 0.5482 - accuracy: 0.7590 - val_loss: 0.4105 - val_accuracy: 0.8214\n",
      "Epoch 2/8\n",
      "782/782 [==============================] - 5s 6ms/step - loss: 0.3319 - accuracy: 0.8615 - val_loss: 0.3680 - val_accuracy: 0.8364\n",
      "Epoch 3/8\n",
      "782/782 [==============================] - 6s 7ms/step - loss: 0.2694 - accuracy: 0.8912 - val_loss: 0.3702 - val_accuracy: 0.8374\n",
      "Epoch 4/8\n",
      "782/782 [==============================] - 5s 7ms/step - loss: 0.2335 - accuracy: 0.9091 - val_loss: 0.3862 - val_accuracy: 0.8345\n",
      "Epoch 5/8\n",
      "782/782 [==============================] - 5s 7ms/step - loss: 0.2066 - accuracy: 0.9225 - val_loss: 0.4266 - val_accuracy: 0.8216\n",
      "Epoch 6/8\n",
      "782/782 [==============================] - 7s 8ms/step - loss: 0.1865 - accuracy: 0.9311 - val_loss: 0.4411 - val_accuracy: 0.8252\n",
      "Epoch 7/8\n",
      "782/782 [==============================] - 5s 6ms/step - loss: 0.1681 - accuracy: 0.9411 - val_loss: 0.4793 - val_accuracy: 0.8177\n",
      "Epoch 8/8\n",
      "782/782 [==============================] - 7s 10ms/step - loss: 0.1522 - accuracy: 0.9474 - val_loss: 0.5185 - val_accuracy: 0.8133\n"
     ]
    }
   ],
   "source": [
    "num_epochs = 8\n",
    "\n",
    "# Train the model\n",
    "history = model.fit(padded, training_labels_final, epochs=num_epochs, validation_data=(testing_padded, testing_labels_final))"
   ]
  },
  {
   "cell_type": "markdown",
   "metadata": {
    "id": "mroDvjEJqwm4"
   },
   "source": [
    "## Results Visualization\n",
    "\n",
    "Let's visualize the model's training history and how well it does on the test set"
   ]
  },
  {
   "cell_type": "code",
   "execution_count": 11,
   "metadata": {
    "colab": {
     "base_uri": "https://localhost:8080/",
     "height": 368
    },
    "id": "t_TqQLAWrKp1",
    "outputId": "f3f75567-2931-46ae-f11f-f202b5b181a8"
   },
   "outputs": [
    {
     "data": {
      "image/png": "[encoded data removed]",
      "text/plain": [
       "<Figure size 1200x300 with 2 Axes>"
      ]
     },
     "metadata": {},
     "output_type": "display_data"
    },
    {
     "name": "stdout",
     "output_type": "stream",
     "text": [
      "782/782 [==============================] - 2s 3ms/step - loss: 0.5185 - accuracy: 0.8133\n",
      "Test Accuracy: 81.33%\n"
     ]
    }
   ],
   "source": [
    "import matplotlib.pyplot as plt\n",
    "\n",
    "# Plot training history\n",
    "def plot_history(history):\n",
    "    acc = history.history['accuracy']\n",
    "    val_acc = history.history['val_accuracy']\n",
    "    loss = history.history['loss']\n",
    "    val_loss = history.history['val_loss']\n",
    "\n",
    "    epochs = range(1, len(acc) + 1)\n",
    "\n",
    "    # Plot training and validation accuracy\n",
    "    plt.figure(figsize=(12, 3))\n",
    "    plt.subplot(1, 2, 1)\n",
    "    plt.plot(epochs, acc, 'r-', label='Training acc')\n",
    "    plt.plot(epochs, val_acc, 'b', label='Validation acc')\n",
    "    plt.title('Training and validation accuracy')\n",
    "    plt.xlabel('Epochs')\n",
    "    plt.ylabel('Accuracy')\n",
    "    plt.legend()\n",
    "\n",
    "    # Plot training and validation loss\n",
    "    plt.subplot(1, 2, 2)\n",
    "    plt.plot(epochs, loss, 'r-', label='Training loss')\n",
    "    plt.plot(epochs, val_loss, 'b', label='Validation loss')\n",
    "    plt.title('Training and validation loss')\n",
    "    plt.xlabel('Epochs')\n",
    "    plt.ylabel('Loss')\n",
    "    plt.legend()\n",
    "\n",
    "    plt.show()\n",
    "\n",
    "# Call the function to plot training history\n",
    "plot_history(history)\n",
    "\n",
    "# Evaluate the model on the test set\n",
    "loss, accuracy = model.evaluate(testing_padded, testing_labels_final)\n",
    "print(f'Test Accuracy: {accuracy*100:.2f}%')"
   ]
  },
  {
   "cell_type": "code",
   "execution_count": 12,
   "metadata": {
    "colab": {
     "base_uri": "https://localhost:8080/",
     "height": 755
    },
    "id": "nxA0OLLKs4c-",
    "outputId": "6959716e-9906-4ae7-d418-4ea51d1abef1"
   },
   "outputs": [
    {
     "name": "stdout",
     "output_type": "stream",
     "text": [
      "782/782 [==============================] - 1s 2ms/step\n"
     ]
    },
    {
     "data": {
      "image/png": "[encoded data removed]",
      "text/plain": [
       "<Figure size 800x600 with 2 Axes>"
      ]
     },
     "metadata": {},
     "output_type": "display_data"
    },
    {
     "name": "stdout",
     "output_type": "stream",
     "text": [
      "Classification Report:\n",
      "               precision    recall  f1-score   support\n",
      "\n",
      "           0       0.80      0.83      0.82     12500\n",
      "           1       0.82      0.80      0.81     12500\n",
      "\n",
      "    accuracy                           0.81     25000\n",
      "   macro avg       0.81      0.81      0.81     25000\n",
      "weighted avg       0.81      0.81      0.81     25000\n",
      "\n"
     ]
    }
   ],
   "source": [
    "from sklearn.metrics import confusion_matrix, classification_report\n",
    "import seaborn as sns\n",
    "\n",
    "# Plot confusion matrix\n",
    "def plot_confusion_matrix(y_true, y_pred):\n",
    "    cm = confusion_matrix(y_true, y_pred)\n",
    "    plt.figure(figsize=(8, 6))\n",
    "    sns.heatmap(cm, annot=True, fmt='d', cmap='Blues', xticklabels=['Negative', 'Positive'], yticklabels=['Negative', 'Positive'])\n",
    "    plt.title('Confusion Matrix')\n",
    "    plt.xlabel('Predicted')\n",
    "    plt.ylabel('True')\n",
    "    plt.show()\n",
    "\n",
    "# Make predictions on the test set\n",
    "y_pred_probs = model.predict(testing_padded)\n",
    "y_pred = (y_pred_probs > 0.5).astype('int32')\n",
    "\n",
    "# Call the function to plot confusion matrix\n",
    "plot_confusion_matrix(testing_labels_final, y_pred)\n",
    "\n",
    "# Display classification report\n",
    "print('Classification Report:\\n', classification_report(testing_labels_final, y_pred))"
   ]
  },
  {
   "cell_type": "markdown",
   "metadata": {
    "id": "1u4Ty097uRYP"
   },
   "source": [
    "## WRITE-UP: Sentiment Classification Project Overview\n"
   ]
  },
  {
   "cell_type": "markdown",
   "metadata": {
    "id": "ykM0Q9ThvszB"
   },
   "source": [
    "## Project Introduction\n",
    "\n",
    "The objective of this project is to develop a robust sentiment classification model capable of discerning between positive and negative sentiments in movie reviews. Leveraging the IMDB Reviews dataset, I employ advanced natural language processing and deep learning techniques to enhance the accuracy and interpretability of sentiment analysis.\n",
    "\n",
    "\n",
    "## Dataset Loading and Preprocessing\n",
    "\n",
    "The project begins with the meticulous loading of the IMDB Reviews dataset using TensorFlow Datasets. To ensure the data is aptly prepared for model training, comprehensive preprocessing steps are taken, including tokenization, sequence generation, and the creation of a word index.\n",
    "\n",
    "\n",
    "## Neural Network Architecture\n",
    "\n",
    "A sophisticated neural network architecture is employed to capture intricate patterns within textual data. The model comprises an embedding layer, a global average pooling layer, and dense layers with strategic activation functions, ultimately culminating in a binary classification layer using sigmoid activation.\n",
    "\n",
    "\n",
    "## Model Training\n",
    "\n",
    "The training phase involves compiling the model with a binary crossentropy loss function and the highly effective Adam optimizer. This step is pivotal for enabling the model to learn intricate sentiment-related nuances from the training dataset over a set number of epochs.\n",
    "\n",
    "\n",
    "## Results Visualization and Analysis\n",
    "\n",
    "To comprehensively assess the model's effectiveness, a suite of visualizations is incorporated. Training history plots, showcasing accuracy and loss over epochs, provide insights into the model's learning dynamics. Furthermore, the model undergoes rigorous evaluation on the test set, with visual aids such as a confusion matrix and a detailed classification report revealing its performance nuances.\n",
    "\n",
    "\n",
    "## Project Conclusion\n",
    "\n",
    "This project encapsulates a holistic approach to sentiment analysis, seamlessly integrating natural language processing, deep learning, and data visualization. By employing cutting-edge techniques and visualizations, the sentiment classification model not only achieves high accuracy but also demonstrates a robust understanding of sentiment patterns in movie reviews.\n"
   ]
  }
 ],
 "metadata": {
  "colab": {
   "provenance": []
  },
  "kernelspec": {
   "display_name": "Python 3 (ipykernel)",
   "language": "python",
   "name": "python3"
  },
  "language_info": {
   "codemirror_mode": {
    "name": "ipython",
    "version": 3
   },
   "file_extension": ".py",
   "mimetype": "text/x-python",
   "name": "python",
   "nbconvert_exporter": "python",
   "pygments_lexer": "ipython3",
   "version": "3.10.3"
  }
 },
 "nbformat": 4,
 "nbformat_minor": 1
}
